{
  "nbformat": 4,
  "nbformat_minor": 0,
  "metadata": {
    "colab": {
      "provenance": [],
      "gpuType": "T4"
    },
    "kernelspec": {
      "name": "python3",
      "display_name": "Python 3"
    },
    "language_info": {
      "name": "python"
    },
    "accelerator": "GPU"
  },
  "cells": [
    {
      "cell_type": "code",
      "source": [
        "from google.colab import drive\n",
        "drive.mount('/content/drive')"
      ],
      "metadata": {
        "id": "N2waClj6lpv9",
        "colab": {
          "base_uri": "https://localhost:8080/"
        },
        "outputId": "af44cba1-8940-49a1-e79d-dd68a85da850"
      },
      "execution_count": 2,
      "outputs": [
        {
          "output_type": "stream",
          "name": "stdout",
          "text": [
            "Mounted at /content/drive\n"
          ]
        }
      ]
    },
    {
      "cell_type": "code",
      "source": [
        "import networkx as nx\n",
        "import matplotlib.pyplot as plt\n",
        "import random"
      ],
      "metadata": {
        "id": "b0lIhRJEjAb7"
      },
      "execution_count": 3,
      "outputs": []
    },
    {
      "cell_type": "code",
      "source": [
        "with open('/content/drive/MyDrive/Colab Notebooks/roadNet-CA.txt', 'r') as file:\n",
        "    edges = [tuple(map(int, line.strip().split())) for line in file.readlines()]"
      ],
      "metadata": {
        "id": "GmQap7EherTl"
      },
      "execution_count": 4,
      "outputs": []
    },
    {
      "cell_type": "code",
      "source": [
        "G = nx.Graph()\n",
        "G.add_edges_from(edges)\n",
        "\n",
        "print(\"Number of Nodes:\", G.number_of_nodes())\n",
        "print(\"Number of Edges:\", G.number_of_edges())\n",
        "print(\"Density of the Network:\", nx.density(G))\n",
        "\n",
        "degree_sequence = [d for n, d in G.degree()]\n",
        "plt.hist(degree_sequence, bins=30, alpha=0.7, color='b')\n",
        "plt.xlabel('Degree')\n",
        "plt.ylabel('Frequency')\n",
        "plt.title('Degree Distribution')\n",
        "plt.show()"
      ],
      "metadata": {
        "colab": {
          "base_uri": "https://localhost:8080/",
          "height": 524
        },
        "id": "M7PqV4YsB_Mi",
        "outputId": "447c6461-f00f-4f41-a75f-c8a8f8e2e584"
      },
      "execution_count": 5,
      "outputs": [
        {
          "output_type": "stream",
          "name": "stdout",
          "text": [
            "Number of Nodes: 1965206\n",
            "Number of Edges: 2766607\n",
            "Density of the Network: 1.4327206657979522e-06\n"
          ]
        },
        {
          "output_type": "display_data",
          "data": {
            "text/plain": [
              "<Figure size 640x480 with 1 Axes>"
            ],
            "image/png": "[encoded data removed]"
          },
          "metadata": {}
        }
      ]
    },
    {
      "cell_type": "code",
      "source": [
        "page_rank_val = nx.pagerank(G)\n",
        "sorted_page_ranks = sorted(page_rank_val.items(), key = lambda x: x[1], reverse=True)\n",
        "\n",
        "# Print important places based on pagerank algoritm\n",
        "print(\"Top 10 places based on PageRank:\")\n",
        "print(\"Place : PageRank\")\n",
        "for place, centrality_val in sorted_page_ranks[:10]:\n",
        "    print(str(place) + \" : \" + str(centrality_val))"
      ],
      "metadata": {
        "colab": {
          "base_uri": "https://localhost:8080/"
        },
        "id": "Zxh5_WlzMM1p",
        "outputId": "39402a6d-de08-47b7-94fc-989bd7214c51"
      },
      "execution_count": 6,
      "outputs": [
        {
          "output_type": "stream",
          "name": "stdout",
          "text": [
            "Top 10 places based on PageRank:\n",
            "Place : PageRank\n",
            "225438 : 2.4552133465906375e-06\n",
            "287362 : 2.383125908089704e-06\n",
            "241926 : 2.166863592586901e-06\n",
            "748883 : 2.0226887155850333e-06\n",
            "1682326 : 2.0226887155850333e-06\n",
            "241299 : 1.950601277084099e-06\n",
            "264566 : 1.950601277084099e-06\n",
            "403664 : 1.950601277084099e-06\n",
            "673507 : 1.950601277084099e-06\n",
            "1258079 : 1.950601277084099e-06\n"
          ]
        }
      ]
    },
    {
      "cell_type": "code",
      "source": [
        "degree_centrality = nx.degree_centrality(G)\n",
        "sorted_degree_centrality = sorted(degree_centrality.items(), key = lambda x: x[1], reverse=True)\n",
        "print(\"Top 10 places based on Degree Centrality:\")\n",
        "print(\"Place : Degree Centrality\")\n",
        "for place, centrality_val in sorted_degree_centrality[:10]:\n",
        "    print(str(place) + \" : \" + str(centrality_val) )"
      ],
      "metadata": {
        "id": "iNR9K5FMDDeK",
        "colab": {
          "base_uri": "https://localhost:8080/"
        },
        "outputId": "a39b4114-346a-41c6-9e19-75910d87b33d"
      },
      "execution_count": 7,
      "outputs": [
        {
          "output_type": "stream",
          "name": "stdout",
          "text": [
            "Top 10 places based on Degree Centrality:\n",
            "Place : Degree Centrality\n",
            "562818 : 6.106233191957073e-06\n",
            "534751 : 5.088527659964228e-06\n",
            "521168 : 5.088527659964228e-06\n",
            "1795416 : 4.5796748939678044e-06\n",
            "5657 : 4.070822127971382e-06\n",
            "5727 : 4.070822127971382e-06\n",
            "6356 : 4.070822127971382e-06\n",
            "290162 : 4.070822127971382e-06\n",
            "291797 : 4.070822127971382e-06\n",
            "309321 : 4.070822127971382e-06\n"
          ]
        }
      ]
    },
    {
      "cell_type": "code",
      "source": [
        "eigen_vector_centrality = nx.eigenvector_centrality(G)\n",
        "sorted_eigen_vector_centrality = sorted(eigen_vector_centrality.items(), key = lambda x: x[1], reverse=True)\n",
        "\n",
        "# Print important places based on eigenvector centrality\n",
        "print(\"Top 10 places based on Eigen Vector Centrality:\")\n",
        "print(\"Place : Eigen Vecor Centrality\")\n",
        "for place, centrality_val in sorted_eigen_vector_centrality[:10]:\n",
        "    print(str(place) + \" : \" + str(centrality_val))"
      ],
      "metadata": {
        "id": "BVQ-VzvFJqJp",
        "colab": {
          "base_uri": "https://localhost:8080/"
        },
        "outputId": "2b65e32a-0c20-47c0-a3c8-37e71edda689"
      },
      "execution_count": 8,
      "outputs": [
        {
          "output_type": "stream",
          "name": "stdout",
          "text": [
            "Top 10 places based on Eigen Vector Centrality:\n",
            "Place : Eigen Vecor Centrality\n",
            "534751 : 0.4410050290282108\n",
            "498390 : 0.24929503856228807\n",
            "534774 : 0.24779993140694834\n",
            "534750 : 0.24050039626979247\n",
            "534779 : 0.22050712339285095\n",
            "534753 : 0.21635529830375944\n",
            "498389 : 0.1914507757522152\n",
            "534777 : 0.18428337840273515\n",
            "534775 : 0.16786244799282016\n",
            "534752 : 0.164429429751562\n"
          ]
        }
      ]
    },
    {
      "cell_type": "code",
      "source": [
        "src = sorted_eigen_vector_centrality[0][0]\n",
        "shortest_paths = nx.single_source_dijkstra_path_length(G, src)\n",
        "sorted_paths = sorted(shortest_paths.items(), key=lambda x: x[1])\n",
        "\n",
        "# Print the nearest 100 nodes\n",
        "print(\"Nearest 100 places from the most important place: \")\n",
        "for target_node, path_length in sorted_paths[:100]:\n",
        "    print(\"Shortest path from \"+ str(src) + \" to \"+ str(target_node) + \":\"+ str(path_length))"
      ],
      "metadata": {
        "colab": {
          "base_uri": "https://localhost:8080/"
        },
        "id": "H0enfz-TjKum",
        "outputId": "e1b988c2-a83b-41f1-ccde-34e51a09de7e"
      },
      "execution_count": 9,
      "outputs": [
        {
          "output_type": "stream",
          "name": "stdout",
          "text": [
            "Nearest 100 places from the most important place: \n",
            "Shortest path from 534751 to 534751:0\n",
            "Shortest path from 534751 to 534750:1\n",
            "Shortest path from 534751 to 498390:1\n",
            "Shortest path from 534751 to 498404:1\n",
            "Shortest path from 534751 to 498389:1\n",
            "Shortest path from 534751 to 534752:1\n",
            "Shortest path from 534751 to 534753:1\n",
            "Shortest path from 534751 to 534774:1\n",
            "Shortest path from 534751 to 534775:1\n",
            "Shortest path from 534751 to 534777:1\n",
            "Shortest path from 534751 to 534779:1\n",
            "Shortest path from 534751 to 498219:2\n",
            "Shortest path from 534751 to 498388:2\n",
            "Shortest path from 534751 to 534776:2\n",
            "Shortest path from 534751 to 498220:2\n",
            "Shortest path from 534751 to 534767:2\n",
            "Shortest path from 534751 to 534768:2\n",
            "Shortest path from 534751 to 498333:2\n",
            "Shortest path from 534751 to 498405:2\n",
            "Shortest path from 534751 to 534778:2\n",
            "Shortest path from 534751 to 535446:2\n",
            "Shortest path from 534751 to 498391:2\n",
            "Shortest path from 534751 to 534765:2\n",
            "Shortest path from 534751 to 534754:2\n",
            "Shortest path from 534751 to 534769:2\n",
            "Shortest path from 534751 to 534764:2\n",
            "Shortest path from 534751 to 534772:2\n",
            "Shortest path from 534751 to 534746:2\n",
            "Shortest path from 534751 to 498193:3\n",
            "Shortest path from 534751 to 498217:3\n",
            "Shortest path from 534751 to 498305:3\n",
            "Shortest path from 534751 to 498387:3\n",
            "Shortest path from 534751 to 498373:3\n",
            "Shortest path from 534751 to 498221:3\n",
            "Shortest path from 534751 to 498222:3\n",
            "Shortest path from 534751 to 498393:3\n",
            "Shortest path from 534751 to 498394:3\n",
            "Shortest path from 534751 to 534749:3\n",
            "Shortest path from 534751 to 498301:3\n",
            "Shortest path from 534751 to 498334:3\n",
            "Shortest path from 534751 to 498341:3\n",
            "Shortest path from 534751 to 498392:3\n",
            "Shortest path from 534751 to 534766:3\n",
            "Shortest path from 534751 to 498409:3\n",
            "Shortest path from 534751 to 534773:3\n",
            "Shortest path from 534751 to 498340:3\n",
            "Shortest path from 534751 to 498414:3\n",
            "Shortest path from 534751 to 534756:3\n",
            "Shortest path from 534751 to 534748:3\n",
            "Shortest path from 534751 to 498175:4\n",
            "Shortest path from 534751 to 534744:4\n",
            "Shortest path from 534751 to 534745:4\n",
            "Shortest path from 534751 to 534747:4\n",
            "Shortest path from 534751 to 498216:4\n",
            "Shortest path from 534751 to 498374:4\n",
            "Shortest path from 534751 to 498303:4\n",
            "Shortest path from 534751 to 498306:4\n",
            "Shortest path from 534751 to 498375:4\n",
            "Shortest path from 534751 to 498194:4\n",
            "Shortest path from 534751 to 498223:4\n",
            "Shortest path from 534751 to 498395:4\n",
            "Shortest path from 534751 to 498416:4\n",
            "Shortest path from 534751 to 498397:4\n",
            "Shortest path from 534751 to 498418:4\n",
            "Shortest path from 534751 to 498300:4\n",
            "Shortest path from 534751 to 498302:4\n",
            "Shortest path from 534751 to 498336:4\n",
            "Shortest path from 534751 to 535445:4\n",
            "Shortest path from 534751 to 498408:4\n",
            "Shortest path from 534751 to 498406:4\n",
            "Shortest path from 534751 to 534757:4\n",
            "Shortest path from 534751 to 498339:4\n",
            "Shortest path from 534751 to 498345:4\n",
            "Shortest path from 534751 to 534770:4\n",
            "Shortest path from 534751 to 498415:4\n",
            "Shortest path from 534751 to 498413:4\n",
            "Shortest path from 534751 to 498425:4\n",
            "Shortest path from 534751 to 498424:4\n",
            "Shortest path from 534751 to 534755:4\n",
            "Shortest path from 534751 to 498172:5\n",
            "Shortest path from 534751 to 498174:5\n",
            "Shortest path from 534751 to 498184:5\n",
            "Shortest path from 534751 to 534742:5\n",
            "Shortest path from 534751 to 498218:5\n",
            "Shortest path from 534751 to 498211:5\n",
            "Shortest path from 534751 to 498297:5\n",
            "Shortest path from 534751 to 498213:5\n",
            "Shortest path from 534751 to 498214:5\n",
            "Shortest path from 534751 to 498185:5\n",
            "Shortest path from 534751 to 498198:5\n",
            "Shortest path from 534751 to 498199:5\n",
            "Shortest path from 534751 to 498224:5\n",
            "Shortest path from 534751 to 498396:5\n",
            "Shortest path from 534751 to 498417:5\n",
            "Shortest path from 534751 to 532540:5\n",
            "Shortest path from 534751 to 498419:5\n",
            "Shortest path from 534751 to 498421:5\n",
            "Shortest path from 534751 to 498304:5\n",
            "Shortest path from 534751 to 498307:5\n",
            "Shortest path from 534751 to 498323:5\n"
          ]
        }
      ]
    },
    {
      "cell_type": "code",
      "source": [
        "selected_places = [place for place, _ in sorted_paths[:100]]\n",
        "random_place = random.choice(selected_places)\n",
        "print(\"Randomly chosen place among nearest 100 places is: \"+str(random_place))\n",
        "shortest_random_path = nx.shortest_path(G, source=src, target=random_place)\n",
        "shortest_random_path_length = nx.shortest_path_length(G, source=src, target=random_place)\n",
        "print(\"Shortest path before removing edge: \"+str(shortest_random_path))\n",
        "print(\"Shortest path length before removing edge: \"+str(shortest_random_path_length))"
      ],
      "metadata": {
        "colab": {
          "base_uri": "https://localhost:8080/"
        },
        "id": "REyoJ2wPJ0wF",
        "outputId": "60ea62d8-d18b-4bb3-9a33-1f5140cd8878"
      },
      "execution_count": 18,
      "outputs": [
        {
          "output_type": "stream",
          "name": "stdout",
          "text": [
            "Randomly chosen place among nearest 100 places is: 498334\n",
            "Shortest path before removing edge: [534751, 498404, 498333, 498334]\n",
            "Shortest path length before removing edge: 3\n"
          ]
        }
      ]
    },
    {
      "cell_type": "code",
      "source": [
        "temp_Graph = G.copy()\n",
        "if len(shortest_random_path) > 1:\n",
        "    rand_idx = random.randint(1, len(shortest_random_path) - 1)\n",
        "    edge_to_remove = (shortest_random_path[rand_idx-1],shortest_random_path[rand_idx])\n",
        "    temp_Graph.remove_edge(*edge_to_remove)\n",
        "    second_shortest_random_path = nx.shortest_path(temp_Graph, source=src, target=random_place)\n",
        "    print(\"Shortest path after removing edge: \"+str(second_shortest_random_path))\n",
        "    second_shortest_random_path_length = nx.shortest_path_length(temp_Graph, source=src, target=random_place)\n",
        "    print(\"Shortest path length after removing edge: \"+str(second_shortest_random_path_length))"
      ],
      "metadata": {
        "colab": {
          "base_uri": "https://localhost:8080/"
        },
        "id": "0w8IAgqzSiNf",
        "outputId": "01a7fad3-f0d2-4f4a-8531-7a3ac2737e47"
      },
      "execution_count": 19,
      "outputs": [
        {
          "output_type": "stream",
          "name": "stdout",
          "text": [
            "Shortest path after removing edge: [534751, 534750, 498388, 498305, 498334]\n",
            "Shortest path length after removing edge: 4\n"
          ]
        }
      ]
    },
    {
      "cell_type": "code",
      "source": [
        "closeness_centrality_val = nx.closeness_centrality(G)\n",
        "sorted_closeness_centrality = sorted(closeness_centrality_val.items(), key = lambda x: x[1], reverse=True)\n",
        "\n",
        "# Places which are important as they are close than any other nodes\n",
        "print(\"Top 10 places based on closeness Centrality  Approach:\")\n",
        "print(\"Place : Closeness Centrality\")\n",
        "for place, centrality_val in sorted_closeness_centrality[:10]:\n",
        "    print(str(place) + \" : \" + str(centrality_val) )"
      ],
      "metadata": {
        "id": "a-QM1za78geW"
      },
      "execution_count": null,
      "outputs": []
    },
    {
      "cell_type": "code",
      "source": [
        "betweenness_centrality_vals = nx.betweenness_centrality(G)\n",
        "sorted_betweenness_vals = sorted(betweenness_centrality_vals.items(), key = lambda x: x[1], reverse=True)\n",
        "\n",
        "# Print important places based on betweenness centrality approach\n",
        "print(\"Top 10 places based on Betweenness Centality:\")\n",
        "print(\"Place : Betweenness Centality\")\n",
        "for place, centrality_val in sorted_betweenness_vals[:10]:\n",
        "    print(str(place) + \" : \" + str(centrality_val) )"
      ],
      "metadata": {
        "id": "aul0AtOJ8p5J"
      },
      "execution_count": null,
      "outputs": []
    }
  ]
}