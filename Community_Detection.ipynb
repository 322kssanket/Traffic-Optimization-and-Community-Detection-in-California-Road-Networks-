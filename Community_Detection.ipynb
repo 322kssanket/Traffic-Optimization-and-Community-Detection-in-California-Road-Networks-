{
 "cells": [
  {
   "cell_type": "code",
   "execution_count": 2,
   "metadata": {
    "id": "3pUDzROrfdyI"
   },
   "outputs": [],
   "source": [
    "import networkx as nx\n",
    "import matplotlib.pyplot as plt\n",
    "import random"
   ]
  },
  {
   "cell_type": "code",
   "execution_count": null,
   "metadata": {
    "colab": {
     "base_uri": "https://localhost:8080/"
    },
    "id": "r2hrfj-DP3Qq",
    "outputId": "71839a9d-0f92-4289-ddc0-e15cf3b6fa54"
   },
   "outputs": [
    {
     "name": "stdout",
     "output_type": "stream",
     "text": [
      "Drive already mounted at /content/drive; to attempt to forcibly remount, call drive.mount(\"/content/drive\", force_remount=True).\n"
     ]
    }
   ],
   "source": [
    "from google.colab import drive\n",
    "drive.mount('/content/drive')"
   ]
  },
  {
   "cell_type": "code",
   "execution_count": 3,
   "metadata": {
    "colab": {
     "base_uri": "https://localhost:8080/",
     "height": 581
    },
    "id": "ieNrcoLP5dR9",
    "outputId": "fb0c1429-52f4-495f-e7fb-3072f1900287"
   },
   "outputs": [
    {
     "name": "stdout",
     "output_type": "stream",
     "text": [
      "Number of Nodes: 1965206\n",
      "Number of Edges: 2766607\n",
      "Density of the Network: 1.4327206657979522e-06\n"
     ]
    },
    {
     "data": {
      "image/png": "[encoded data removed]",
      "text/plain": [
       "<Figure size 640x480 with 1 Axes>"
      ]
     },
     "metadata": {},
     "output_type": "display_data"
    },
    {
     "name": "stdout",
     "output_type": "stream",
     "text": [
      "Top 10 Nodes by Degree Centrality:\n",
      "[(562818, 6.106233191957073e-06), (534751, 5.088527659964228e-06), (521168, 5.088527659964228e-06), (1795416, 4.5796748939678044e-06), (5657, 4.070822127971382e-06), (5727, 4.070822127971382e-06), (6356, 4.070822127971382e-06), (290162, 4.070822127971382e-06), (291797, 4.070822127971382e-06), (309321, 4.070822127971382e-06)]\n"
     ]
    }
   ],
   "source": [
    "\n",
    "with open('/content/drive/MyDrive/Colab Notebooks/roadNet-CA.txt', 'r') as file:\n",
    "    edges = [tuple(map(int, line.strip().split())) for line in file.readlines()]\n",
    "\n",
    "G = nx.Graph()\n",
    "G.add_edges_from(edges)\n",
    "\n",
    "print(\"Number of Nodes:\", G.number_of_nodes())\n",
    "print(\"Number of Edges:\", G.number_of_edges())\n",
    "print(\"Density of the Network:\", nx.density(G))\n",
    "\n",
    "degree_sequence = [d for n, d in G.degree()]\n",
    "degree_counts = nx.degree_histogram(G)\n",
    "\n",
    "degree_distribution = [count / len(G.nodes) for count in degree_counts]\n",
    "\n",
    "plt.bar(range(len(degree_distribution)), degree_distribution)\n",
    "plt.xlabel('Degree')\n",
    "plt.ylabel('Probability')\n",
    "plt.title('Degree Distribution')\n",
    "plt.show()\n",
    "centrality = nx.degree_centrality(G)\n",
    "sorted_centrality = sorted(centrality.items(), key=lambda x: x[1], reverse=True)\n",
    "print(\"Top 10 Nodes by Degree Centrality:\")\n",
    "print(sorted_centrality[:10])\n",
    "\n",
    "communities = list(nx.community.greedy_modularity_communities(G))"
   ]
  },
  {
   "cell_type": "code",
   "execution_count": null,
   "metadata": {
    "colab": {
     "base_uri": "https://localhost:8080/"
    },
    "id": "rXUzkUt9b6WQ",
    "outputId": "e024eef5-60da-43df-bf6c-c1b0ade7f16a"
   },
   "outputs": [
    {
     "data": {
      "text/plain": [
       "2949"
      ]
     },
     "execution_count": 63,
     "metadata": {},
     "output_type": "execute_result"
    }
   ],
   "source": [
    "len(communities)"
   ]
  },
  {
   "cell_type": "code",
   "execution_count": null,
   "metadata": {
    "colab": {
     "base_uri": "https://localhost:8080/"
    },
    "id": "92Rdk5W7MWjP",
    "outputId": "5bb20fc8-2979-4ae5-87e6-aabee26616b5"
   },
   "outputs": [
    {
     "name": "stdout",
     "output_type": "stream",
     "text": [
      "Community sizes (Louvain-like): [21453, 12621, 11743, 10735, 10638, 10349, 10221, 10102, 10026, 9992, 9908, 9804, 9798, 9796, 9269, 9263, 9260, 8958, 8741, 8680, 8591, 8552, 8468, 8456, 8352, 8340, 8069, 8062, 8038, 8034, 8000, 7911, 7823, 7784, 7679, 7672, 7482, 7469, 7238, 7218, 7120, 7090, 7082, 6840, 6839, 6837, 6667, 6621, 6528, 6501, 6479, 6442, 6414, 6407, 6364, 6338, 6328, 6323, 6320, 6305, 6240, 6173, 6139, 6129, 6122, 6118, 6087, 6057, 6008, 5985, 5935, 5918, 5903, 5895, 5835, 5804, 5662, 5658, 5649, 5570, 5547, 5532, 5512, 5482, 5448, 5413, 5411, 5335, 5331, 5303, 5235, 5224, 5223, 5214, 5199, 5181, 5146, 5116, 5092, 5086, 5028, 5025, 5013, 4997, 4992, 4959, 4950, 4950, 4920, 4915, 4910, 4831, 4824, 4790, 4763, 4699, 4667, 4618, 4608, 4595, 4578, 4567, 4514, 4491, 4463, 4433, 4419, 4351, 4335, 4309, 4298, 4293, 4291, 4283, 4281, 4277, 4275, 4258, 4243, 4224, 4220, 4181, 4149, 4103, 4067, 4049, 4037, 4036, 4007, 3917, 3912, 3882, 3882, 3872, 3849, 3845, 3844, 3790, 3696, 3679, 3677, 3637, 3612, 3597, 3533, 3524, 3489, 3386, 3347, 3328, 3305, 3264, 3261, 3252, 3126, 3113, 3112, 3079, 3060, 3023, 3023, 2950, 2885, 2844, 2843, 2840, 2834, 2832, 2831, 2736, 2729, 2718, 2676, 2660, 2620, 2577, 2571, 2555, 2519, 2424, 2340, 2312, 2263, 2246, 2230, 2229, 2229, 2164, 2079, 2024, 1936, 1923, 1870, 1782, 1772, 1744, 1717, 1702, 1645, 1596, 1593, 1554, 1499, 1497, 1469, 1466, 1431, 1429, 1344, 1324, 1302, 1142, 1091, 1032, 1022, 906, 884, 696, 695, 586, 538, 532, 487, 437, 386, 378, 347, 340, 295, 256, 212, 207, 148, 100, 95, 90, 80, 76, 75, 64, 64, 56, 56, 52, 50, 49, 48, 45, 43, 31, 25, 22, 21, 20, 20, 18, 18, 18, 18, 18, 17, 17, 16, 16, 16, 16, 15, 15, 15, 15, 14, 14, 14, 14, 14, 14, 14, 14, 14, 13, 13, 13, 13, 13, 13, 13, 13, 13, 13, 13, 12, 12, 12, 12, 12, 12, 12, 12, 12, 12, 12, 12, 12, 11, 11, 10, 10, 10, 10, 10, 10, 10, 9, 9, 9, 8, 8, 8, 8, 8, 8, 8, 8, 8, 8, 7, 7, 7, 6, 6, 6, 6, 6, 6, 6, 6, 6, 6, 6, 6, 6, 6, 6, 6, 6, 6, 6, 6, 6, 6, 6, 6, 6, 6, 6, 6, 6, 6, 6, 6, 6, 6, 6, 6, 6, 6, 6, 6, 6, 6, 6, 6, 6, 5, 5, 5, 5, 5, 5, 5, 4, 4, 4, 4, 4, 4, 4, 4, 4, 4, 4, 4, 4, 4, 4, 4, 4, 4, 4, 4, 4, 4, 4, 4, 4, 4, 4, 4, 4, 4, 4, 4, 4, 4, 4, 4, 4, 4, 4, 4, 4, 4, 4, 4, 4, 4, 4, 4, 4, 4, 4, 4, 4, 4, 4, 4, 4, 4, 4, 4, 4, 4, 4, 4, 4, 4, 4, 4, 4, 4, 4, 4, 4, 4, 4, 4, 4, 4, 4, 4, 4, 4, 4, 4, 4, 4, 4, 4, 4, 4, 4, 4, 4, 4, 4, 4, 4, 4, 4, 4, 4, 4, 4, 4, 4, 4, 4, 4, 4, 4, 4, 4, 4, 4, 4, 4, 4, 4, 4, 4, 4, 4, 4, 4, 4, 4, 4, 4, 4, 4, 4, 4, 3, 3, 3, 3, 3, 3, 3, 3, 3, 3, 3, 3, 3, 3, 3, 3, 3, 3, 3, 3, 3, 2, 2, 2, 2, 2, 2, 2, 2, 2, 2, 2, 2, 2, 2, 2, 2, 2, 2, 2, 2, 2, 2, 2, 2, 2, 2, 2, 2, 2, 2, 2, 2, 2, 2, 2, 2, 2, 2, 2, 2, 2, 2, 2, 2, 2, 2, 2, 2, 2, 2, 2, 2, 2, 2, 2, 2, 2, 2, 2, 2, 2, 2, 2, 2, 2, 2, 2, 2, 2, 2, 2, 2, 2, 2, 2, 2, 2, 2, 2, 2, 2, 2, 2, 2, 2, 2, 2, 2, 2, 2, 2, 2, 2, 2, 2, 2, 2, 2, 2, 2, 2, 2, 2, 2, 2, 2, 2, 2, 2, 2, 2, 2, 2, 2, 2, 2, 2, 2, 2, 2, 2, 2, 2, 2, 2, 2, 2, 2, 2, 2, 2, 2, 2, 2, 2, 2, 2, 2, 2, 2, 2, 2, 2, 2, 2, 2, 2, 2, 2, 2, 2, 2, 2, 2, 2, 2, 2, 2, 2, 2, 2, 2, 2, 2, 2, 2, 2, 2, 2, 2, 2, 2, 2, 2, 2, 2, 2, 2, 2, 2, 2, 2, 2, 2, 2, 2, 2, 2, 2, 2, 2, 2, 2, 2, 2, 2, 2, 2, 2, 2, 2, 2, 2, 2, 2, 2, 2, 2, 2, 2, 2, 2, 2, 2, 2, 2, 2, 2, 2, 2, 2, 2, 2, 2, 2, 2, 2, 2, 2, 2, 2, 2, 2, 2, 2, 2, 2, 2, 2, 2, 2, 2, 2, 2, 2, 2, 2, 2, 2, 2, 2, 2, 2, 2, 2, 2, 2, 2, 2, 2, 2, 2, 2, 2, 2, 2, 2, 2, 2, 2, 2, 2, 2, 2, 2, 2, 2, 2, 2, 2, 2, 2, 2, 2, 2, 2, 2, 2, 2, 2, 2, 2, 2, 2, 2, 2, 2, 2, 2, 2, 2, 2, 2, 2, 2, 2, 2, 2, 2, 2, 2, 2, 2, 2, 2, 2, 2, 2, 2, 2, 2, 2, 2, 2, 2, 2, 2, 2, 2, 2, 2, 2, 2, 2, 2, 2, 2, 2, 2, 2, 2, 2, 2, 2, 2, 2, 2, 2, 2, 2, 2, 2, 2, 2, 2, 2, 2, 2, 2, 2, 2, 2, 2, 2, 2, 2, 2, 2, 2, 2, 2, 2, 2, 2, 2, 2, 2, 2, 2, 2, 2, 2, 2, 2, 2, 2, 2, 2, 2, 2, 2, 2, 2, 2, 2, 2, 2, 2, 2, 2, 2, 2, 2, 2, 2, 2, 2, 2, 2, 2, 2, 2, 2, 2, 2, 2, 2, 2, 2, 2, 2, 2, 2, 2, 2, 2, 2, 2, 2, 2, 2, 2, 2, 2, 2, 2, 2, 2, 2, 2, 2, 2, 2, 2, 2, 2, 2, 2, 2, 2, 2, 2, 2, 2, 2, 2, 2, 2, 2, 2, 2, 2, 2, 2, 2, 2, 2, 2, 2, 2, 2, 2, 2, 2, 2, 2, 2, 2, 2, 2, 2, 2, 2, 2, 2, 2, 2, 2, 2, 2, 2, 2, 2, 2, 2, 2, 2, 2, 2, 2, 2, 2, 2, 2, 2, 2, 2, 2, 2, 2, 2, 2, 2, 2, 2, 2, 2, 2, 2, 2, 2, 2, 2, 2, 2, 2, 2, 2, 2, 2, 2, 2, 2, 2, 2, 2, 2, 2, 2, 2, 2, 2, 2, 2, 2, 2, 2, 2, 2, 2, 2, 2, 2, 2, 2, 2, 2, 2, 2, 2, 2, 2, 2, 2, 2, 2, 2, 2, 2, 2, 2, 2, 2, 2, 2, 2, 2, 2, 2, 2, 2, 2, 2, 2, 2, 2, 2, 2, 2, 2, 2, 2, 2, 2, 2, 2, 2, 2, 2, 2, 2, 2, 2, 2, 2, 2, 2, 2, 2, 2, 2, 2, 2, 2, 2, 2, 2, 2, 2, 2, 2, 2, 2, 2, 2, 2, 2, 2, 2, 2, 2, 2, 2, 2, 2, 2, 2, 2, 2, 2, 2, 2, 2, 2, 2, 2, 2, 2, 2, 2, 2, 2, 2, 2, 2, 2, 2, 2, 2, 2, 2, 2, 2, 2, 2, 2, 2, 2, 2, 2, 2, 2, 2, 2, 2, 2, 2, 2, 2, 2, 2, 2, 2, 2, 2, 2, 2, 2, 2, 2, 2, 2, 2, 2, 2, 2, 2, 2, 2, 2, 2, 2, 2, 2, 2, 2, 2, 2, 2, 2, 2, 2, 2, 2, 2, 2, 2, 2, 2, 2, 2, 2, 2, 2, 2, 2, 2, 2, 2, 2, 2, 2, 2, 2, 2, 2, 2, 2, 2, 2, 2, 2, 2, 2, 2, 2, 2, 2, 2, 2, 2, 2, 2, 2, 2, 2, 2, 2, 2, 2, 2, 2, 2, 2, 2, 2, 2, 2, 2, 2, 2, 2, 2, 2, 2, 2, 2, 2, 2, 2, 2, 2, 2, 2, 2, 2, 2, 2, 2, 2, 2, 2, 2, 2, 2, 2, 2, 2, 2, 2, 2, 2, 2, 2, 2, 2, 2, 2, 2, 2, 2, 2, 2, 2, 2, 2, 2, 2, 2, 2, 2, 2, 2, 2, 2, 2, 2, 2, 2, 2, 2, 2, 2, 2, 2, 2, 2, 2, 2, 2, 2, 2, 2, 2, 2, 2, 2, 2, 2, 2, 2, 2, 2, 2, 2, 2, 2, 2, 2, 2, 2, 2, 2, 2, 2, 2, 2, 2, 2, 2, 2, 2, 2, 2, 2, 2, 2, 2, 2, 2, 2, 2, 2, 2, 2, 2, 2, 2, 2, 2, 2, 2, 2, 2, 2, 2, 2, 2, 2, 2, 2, 2, 2, 2, 2, 2, 2, 2, 2, 2, 2, 2, 2, 2, 2, 2, 2, 2, 2, 2, 2, 2, 2, 2, 2, 2, 2, 2, 2, 2, 2, 2, 2, 2, 2, 2, 2, 2, 2, 2, 2, 2, 2, 2, 2, 2, 2, 2, 2, 2, 2, 2, 2, 2, 2, 2, 2, 2, 2, 2, 2, 2, 2, 2, 2, 2, 2, 2, 2, 2, 2, 2, 2, 2, 2, 2, 2, 2, 2, 2, 2, 2, 2, 2, 2, 2, 2, 2, 2, 2, 2, 2, 2, 2, 2, 2, 2, 2, 2, 2, 2, 2, 2, 2, 2, 2, 2, 2, 2, 2, 2, 2, 2, 2, 2, 2, 2, 2, 2, 2, 2, 2, 2, 2, 2, 2, 2, 2, 2, 2, 2, 2, 2, 2, 2, 2, 2, 2, 2, 2, 2, 2, 2, 2, 2, 2, 2, 2, 2, 2, 2, 2, 2, 2, 2, 2, 2, 2, 2, 2, 2, 2, 2, 2, 2, 2, 2, 2, 2, 2, 2, 2, 2, 2, 2, 2, 2, 2, 2, 2, 2, 2, 2, 2, 2, 2, 2, 2, 2, 2, 2, 2, 2, 2, 2, 2, 2, 2, 2, 2, 2, 2, 2, 2, 2, 2, 2, 2, 2, 2, 2, 2, 2, 2, 2, 2, 2, 2, 2, 2, 2, 2, 2, 2, 2, 2, 2, 2, 2, 2, 2, 2, 2, 2, 2, 2, 2, 2, 2, 2, 2, 2, 2, 2, 2, 2, 2, 2, 2, 2, 2, 2, 2, 2, 2, 2, 2, 2, 2, 2, 2]\n",
      "Modularity (Louvain-like): 0.9891169029429419\n"
     ]
    }
   ],
   "source": [
    "import networkx as nx\n",
    "\n",
    "\n",
    "communities_greedy = list(nx.algorithms.community.greedy_modularity_communities(G))\n",
    "\n",
    "community_sizes_greedy = [len(community) for community in communities_greedy]\n",
    "print(f'Community sizes: {community_sizes_greedy}')\n",
    "\n",
    "modularity_greedy = nx.algorithms.community.quality.modularity(G, communities_greedy)\n",
    "print(f'Modularity: {modularity_greedy}')"
   ]
  },
  {
   "cell_type": "code",
   "execution_count": null,
   "metadata": {
    "colab": {
     "base_uri": "https://localhost:8080/"
    },
    "id": "5HKVFnOlNE23",
    "outputId": "3ffa53b1-9cae-4737-8734-3d20ec1e4b33"
   },
   "outputs": [
    {
     "name": "stdout",
     "output_type": "stream",
     "text": [
      "Rank 554: Community [320, 319] with Modularity 0.9999999999996426\n",
      "Rank 555: Community [23186, 41725] with Modularity 0.9999999999996426\n",
      "Rank 556: Community [36972, 36973] with Modularity 0.9999999999996426\n",
      "Rank 557: Community [42579, 42580] with Modularity 0.9999999999996426\n",
      "Rank 558: Community [44357, 44358] with Modularity 0.9999999999996426\n",
      "Rank 559: Community [44361, 44362] with Modularity 0.9999999999996426\n",
      "Rank 560: Community [44491, 44492] with Modularity 0.9999999999996426\n",
      "Rank 561: Community [45164, 45165] with Modularity 0.9999999999996426\n",
      "Rank 562: Community [46908, 46909] with Modularity 0.9999999999996426\n",
      "Rank 563: Community [48560, 48561] with Modularity 0.9999999999996426\n"
     ]
    }
   ],
   "source": [
    "import networkx as nx\n",
    "from networkx.algorithms.community.quality import modularity\n",
    "\n",
    "\n",
    "communities_greedy = [list(community) for community in communities_greedy]\n",
    "\n",
    "modularity_list = []\n",
    "for i, community in enumerate(communities_greedy):\n",
    "    intra_edges = G.subgraph(community).number_of_edges()\n",
    "    total_edges = G.subgraph(community).size()\n",
    "    fraction_intra_edges = intra_edges / total_edges if total_edges > 0 else 0.0\n",
    "    total_graph_edges = G.size()\n",
    "    fraction_total_edges = total_edges / total_graph_edges if total_graph_edges > 0 else 0.0\n",
    "    modularity_community = fraction_intra_edges - (fraction_total_edges ** 2)\n",
    "\n",
    "    modularity_list.append((i + 1, community, modularity_community))\n",
    "\n",
    "modularity_list.sort(key=lambda x: x[2], reverse=True)\n",
    "\n",
    "for rank, community, modularity_value in modularity_list[:10]:\n",
    "    print(f'Rank {rank}: Community {community} with Modularity {modularity_value}')"
   ]
  },
  {
   "cell_type": "code",
   "execution_count": null,
   "metadata": {
    "id": "VCHICTiYR6ZS"
   },
   "outputs": [],
   "source": [
    "for rank, community, modularity_value in modularity_list[:10]:\n",
    "    print(f'Rank {rank}: Community {community} with Modularity {modularity_value}')"
   ]
  },
  {
   "cell_type": "code",
   "execution_count": null,
   "metadata": {
    "colab": {
     "base_uri": "https://localhost:8080/"
    },
    "id": "bDx_M8Drj1Su",
    "outputId": "1ac45269-f594-46f5-fdfc-a4435a0b6b28"
   },
   "outputs": [
    {
     "name": "stdout",
     "output_type": "stream",
     "text": [
      "Minimum Modularity: 0.9995499591383672\n",
      "Maximum Modularity: 0.9999999999996426\n"
     ]
    }
   ],
   "source": [
    "min_modularity = min(mod[2] for mod in modularity_list)\n",
    "max_modularity = max(mod[2] for mod in modularity_list)\n",
    "\n",
    "print(f'Minimum Modularity: {min_modularity}')\n",
    "print(f'Maximum Modularity: {max_modularity}')"
   ]
  },
  {
   "cell_type": "code",
   "execution_count": null,
   "metadata": {
    "colab": {
     "base_uri": "https://localhost:8080/",
     "height": 490
    },
    "id": "y6vx5JVflaAi",
    "outputId": "9d503a7f-dc59-46fa-9543-be5f3fe8f6f1"
   },
   "outputs": [
    {
     "name": "stdout",
     "output_type": "stream",
     "text": [
      "\n"
     ]
    },
    {
     "data": {
      "image/png": "[encoded data removed]",
      "text/plain": [
       "<Figure size 640x480 with 1 Axes>"
      ]
     },
     "metadata": {},
     "output_type": "display_data"
    }
   ],
   "source": [
    "community_sizes = [len(community) for community in communities_greedy]\n",
    "mod = [mod[2] for mod in modularity_list]\n",
    "print()\n",
    "#print(community_sizes[:3])\n",
    "\n",
    "plt.scatter(community_sizes, mod, marker='o', alpha=0.5)\n",
    "plt.xlabel('Community Size')\n",
    "plt.ylabel('Modularity')\n",
    "plt.title('Community Size vs Modularity')\n",
    "plt.show()"
   ]
  },
  {
   "cell_type": "code",
   "execution_count": null,
   "metadata": {
    "colab": {
     "base_uri": "https://localhost:8080/"
    },
    "id": "loaMiBdkChHz",
    "outputId": "b3164491-d9cd-4898-9695-6564dfaf8f7a"
   },
   "outputs": [
    {
     "name": "stdout",
     "output_type": "stream",
     "text": [
      "1714\n",
      "1714\n"
     ]
    }
   ],
   "source": [
    "print(len(community_sizes))\n",
    "print(len(modularity_list))"
   ]
  },
  {
   "cell_type": "code",
   "execution_count": null,
   "metadata": {
    "id": "VHEaHtbVC0Dp"
   },
   "outputs": [],
   "source": []
  }
 ],
 "metadata": {
  "colab": {
   "provenance": []
  },
  "kernelspec": {
   "display_name": "Python 3",
   "language": "python",
   "name": "python3"
  },
  "language_info": {
   "codemirror_mode": {
    "name": "ipython",
    "version": 3
   },
   "file_extension": ".py",
   "mimetype": "text/x-python",
   "name": "python",
   "nbconvert_exporter": "python",
   "pygments_lexer": "ipython3",
   "version": "3.7.4"
  }
 },
 "nbformat": 4,
 "nbformat_minor": 1
}
